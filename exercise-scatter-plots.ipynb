{
 "cells": [
  {
   "cell_type": "markdown",
   "id": "c75f1add",
   "metadata": {
    "papermill": {
     "duration": 0.010228,
     "end_time": "2023-04-01T15:36:13.623776",
     "exception": false,
     "start_time": "2023-04-01T15:36:13.613548",
     "status": "completed"
    },
    "tags": []
   },
   "source": [
    "**This notebook is an exercise in the [Data Visualization](https://www.kaggle.com/learn/data-visualization) course.  You can reference the tutorial at [this link](https://www.kaggle.com/alexisbcook/scatter-plots).**\n",
    "\n",
    "---\n"
   ]
  },
  {
   "cell_type": "markdown",
   "id": "fe8cefb4",
   "metadata": {
    "papermill": {
     "duration": 0.008837,
     "end_time": "2023-04-01T15:36:13.642281",
     "exception": false,
     "start_time": "2023-04-01T15:36:13.633444",
     "status": "completed"
    },
    "tags": []
   },
   "source": [
    "In this exercise, you will use your new knowledge to propose a solution to a real-world scenario.  To succeed, you will need to import data into Python, answer questions using the data, and generate **scatter plots** to understand patterns in the data.\n",
    "\n",
    "## Scenario\n",
    "\n",
    "You work for a major candy producer, and your goal is to write a report that your company can use to guide the design of its next product.  Soon after starting your research, you stumble across this [very interesting dataset](https://fivethirtyeight.com/features/the-ultimate-halloween-candy-power-ranking/) containing results from a fun survey to crowdsource favorite candies.\n",
    "\n",
    "## Setup\n",
    "\n",
    "Run the next cell to import and configure the Python libraries that you need to complete the exercise."
   ]
  },
  {
   "cell_type": "code",
   "execution_count": 1,
   "id": "10d727d3",
   "metadata": {
    "execution": {
     "iopub.execute_input": "2023-04-01T15:36:13.662584Z",
     "iopub.status.busy": "2023-04-01T15:36:13.661796Z",
     "iopub.status.idle": "2023-04-01T15:36:14.903090Z",
     "shell.execute_reply": "2023-04-01T15:36:14.901399Z"
    },
    "papermill": {
     "duration": 1.254646,
     "end_time": "2023-04-01T15:36:14.905938",
     "exception": false,
     "start_time": "2023-04-01T15:36:13.651292",
     "status": "completed"
    },
    "tags": []
   },
   "outputs": [
    {
     "name": "stdout",
     "output_type": "stream",
     "text": [
      "Setup Complete\n"
     ]
    }
   ],
   "source": [
    "import pandas as pd\n",
    "pd.plotting.register_matplotlib_converters()\n",
    "import matplotlib.pyplot as plt\n",
    "%matplotlib inline\n",
    "import seaborn as sns\n",
    "print(\"Setup Complete\")"
   ]
  },
  {
   "cell_type": "markdown",
   "id": "bd970649",
   "metadata": {
    "papermill": {
     "duration": 0.008691,
     "end_time": "2023-04-01T15:36:14.923865",
     "exception": false,
     "start_time": "2023-04-01T15:36:14.915174",
     "status": "completed"
    },
    "tags": []
   },
   "source": [
    "The questions below will give you feedback on your work. Run the following cell to set up our feedback system."
   ]
  },
  {
   "cell_type": "code",
   "execution_count": 2,
   "id": "0101efc4",
   "metadata": {
    "execution": {
     "iopub.execute_input": "2023-04-01T15:36:14.944626Z",
     "iopub.status.busy": "2023-04-01T15:36:14.943856Z",
     "iopub.status.idle": "2023-04-01T15:36:15.011141Z",
     "shell.execute_reply": "2023-04-01T15:36:15.009738Z"
    },
    "papermill": {
     "duration": 0.08103,
     "end_time": "2023-04-01T15:36:15.014054",
     "exception": false,
     "start_time": "2023-04-01T15:36:14.933024",
     "status": "completed"
    },
    "tags": []
   },
   "outputs": [
    {
     "name": "stdout",
     "output_type": "stream",
     "text": [
      "Setup Complete\n"
     ]
    }
   ],
   "source": [
    "# Set up code checking\n",
    "import os\n",
    "if not os.path.exists(\"../input/candy.csv\"):\n",
    "    os.symlink(\"../input/data-for-datavis/candy.csv\", \"../input/candy.csv\") \n",
    "from learntools.core import binder\n",
    "binder.bind(globals())\n",
    "from learntools.data_viz_to_coder.ex4 import *\n",
    "print(\"Setup Complete\")"
   ]
  },
  {
   "cell_type": "markdown",
   "id": "cc016c16",
   "metadata": {
    "papermill": {
     "duration": 0.008872,
     "end_time": "2023-04-01T15:36:15.032212",
     "exception": false,
     "start_time": "2023-04-01T15:36:15.023340",
     "status": "completed"
    },
    "tags": []
   },
   "source": [
    "## Step 1: Load the Data\n",
    "\n",
    "Read the candy data file into `candy_data`.  Use the `\"id\"` column to label the rows."
   ]
  },
  {
   "cell_type": "code",
   "execution_count": 3,
   "id": "7e75a0fa",
   "metadata": {
    "execution": {
     "iopub.execute_input": "2023-04-01T15:36:15.052956Z",
     "iopub.status.busy": "2023-04-01T15:36:15.052469Z",
     "iopub.status.idle": "2023-04-01T15:36:15.067564Z",
     "shell.execute_reply": "2023-04-01T15:36:15.066571Z"
    },
    "papermill": {
     "duration": 0.028336,
     "end_time": "2023-04-01T15:36:15.069726",
     "exception": false,
     "start_time": "2023-04-01T15:36:15.041390",
     "status": "completed"
    },
    "tags": []
   },
   "outputs": [
    {
     "data": {
      "application/javascript": [
       "parent.postMessage({\"jupyterEvent\": \"custom.exercise_interaction\", \"data\": {\"outcomeType\": 1, \"valueTowardsCompletion\": 0.3333333333333333, \"interactionType\": 1, \"questionType\": 1, \"questionId\": \"1_LoadData\", \"learnToolsVersion\": \"0.3.4\", \"failureMessage\": \"\", \"exceptionClass\": \"\", \"trace\": \"\"}}, \"*\")"
      ],
      "text/plain": [
       "<IPython.core.display.Javascript object>"
      ]
     },
     "metadata": {},
     "output_type": "display_data"
    },
    {
     "data": {
      "text/markdown": [
       "<span style=\"color:#33cc33\">Correct</span>"
      ],
      "text/plain": [
       "Correct"
      ]
     },
     "metadata": {},
     "output_type": "display_data"
    }
   ],
   "source": [
    "# Path of the file to read\n",
    "candy_filepath = \"../input/candy.csv\"\n",
    "\n",
    "# Fill in the line below to read the file into a variable candy_data\n",
    "candy_data = pd.read_csv(candy_filepath, index_col = \"id\")\n",
    "\n",
    "# Run the line below with no changes to check that you've loaded the data correctly\n",
    "step_1.check()"
   ]
  },
  {
   "cell_type": "code",
   "execution_count": 4,
   "id": "926134f0",
   "metadata": {
    "execution": {
     "iopub.execute_input": "2023-04-01T15:36:15.091723Z",
     "iopub.status.busy": "2023-04-01T15:36:15.091270Z",
     "iopub.status.idle": "2023-04-01T15:36:15.096553Z",
     "shell.execute_reply": "2023-04-01T15:36:15.095214Z"
    },
    "papermill": {
     "duration": 0.019146,
     "end_time": "2023-04-01T15:36:15.099185",
     "exception": false,
     "start_time": "2023-04-01T15:36:15.080039",
     "status": "completed"
    },
    "tags": []
   },
   "outputs": [],
   "source": [
    "# Lines below will give you a hint or solution code\n",
    "#step_1.hint()\n",
    "#step_1.solution()"
   ]
  },
  {
   "cell_type": "markdown",
   "id": "e5698177",
   "metadata": {
    "papermill": {
     "duration": 0.009108,
     "end_time": "2023-04-01T15:36:15.118035",
     "exception": false,
     "start_time": "2023-04-01T15:36:15.108927",
     "status": "completed"
    },
    "tags": []
   },
   "source": [
    "## Step 2: Review the data\n",
    "\n",
    "Use a Python command to print the first five rows of the data."
   ]
  },
  {
   "cell_type": "code",
   "execution_count": 5,
   "id": "0ef041c5",
   "metadata": {
    "execution": {
     "iopub.execute_input": "2023-04-01T15:36:15.139873Z",
     "iopub.status.busy": "2023-04-01T15:36:15.139068Z",
     "iopub.status.idle": "2023-04-01T15:36:15.170215Z",
     "shell.execute_reply": "2023-04-01T15:36:15.168916Z"
    },
    "papermill": {
     "duration": 0.044707,
     "end_time": "2023-04-01T15:36:15.172785",
     "exception": false,
     "start_time": "2023-04-01T15:36:15.128078",
     "status": "completed"
    },
    "tags": []
   },
   "outputs": [
    {
     "data": {
      "text/html": [
       "<div>\n",
       "<style scoped>\n",
       "    .dataframe tbody tr th:only-of-type {\n",
       "        vertical-align: middle;\n",
       "    }\n",
       "\n",
       "    .dataframe tbody tr th {\n",
       "        vertical-align: top;\n",
       "    }\n",
       "\n",
       "    .dataframe thead th {\n",
       "        text-align: right;\n",
       "    }\n",
       "</style>\n",
       "<table border=\"1\" class=\"dataframe\">\n",
       "  <thead>\n",
       "    <tr style=\"text-align: right;\">\n",
       "      <th></th>\n",
       "      <th>competitorname</th>\n",
       "      <th>chocolate</th>\n",
       "      <th>fruity</th>\n",
       "      <th>caramel</th>\n",
       "      <th>peanutyalmondy</th>\n",
       "      <th>nougat</th>\n",
       "      <th>crispedricewafer</th>\n",
       "      <th>hard</th>\n",
       "      <th>bar</th>\n",
       "      <th>pluribus</th>\n",
       "      <th>sugarpercent</th>\n",
       "      <th>pricepercent</th>\n",
       "      <th>winpercent</th>\n",
       "    </tr>\n",
       "    <tr>\n",
       "      <th>id</th>\n",
       "      <th></th>\n",
       "      <th></th>\n",
       "      <th></th>\n",
       "      <th></th>\n",
       "      <th></th>\n",
       "      <th></th>\n",
       "      <th></th>\n",
       "      <th></th>\n",
       "      <th></th>\n",
       "      <th></th>\n",
       "      <th></th>\n",
       "      <th></th>\n",
       "      <th></th>\n",
       "    </tr>\n",
       "  </thead>\n",
       "  <tbody>\n",
       "    <tr>\n",
       "      <th>0</th>\n",
       "      <td>100 Grand</td>\n",
       "      <td>Yes</td>\n",
       "      <td>No</td>\n",
       "      <td>Yes</td>\n",
       "      <td>No</td>\n",
       "      <td>No</td>\n",
       "      <td>Yes</td>\n",
       "      <td>No</td>\n",
       "      <td>Yes</td>\n",
       "      <td>No</td>\n",
       "      <td>0.732</td>\n",
       "      <td>0.860</td>\n",
       "      <td>66.971725</td>\n",
       "    </tr>\n",
       "    <tr>\n",
       "      <th>1</th>\n",
       "      <td>3 Musketeers</td>\n",
       "      <td>Yes</td>\n",
       "      <td>No</td>\n",
       "      <td>No</td>\n",
       "      <td>No</td>\n",
       "      <td>Yes</td>\n",
       "      <td>No</td>\n",
       "      <td>No</td>\n",
       "      <td>Yes</td>\n",
       "      <td>No</td>\n",
       "      <td>0.604</td>\n",
       "      <td>0.511</td>\n",
       "      <td>67.602936</td>\n",
       "    </tr>\n",
       "    <tr>\n",
       "      <th>2</th>\n",
       "      <td>Air Heads</td>\n",
       "      <td>No</td>\n",
       "      <td>Yes</td>\n",
       "      <td>No</td>\n",
       "      <td>No</td>\n",
       "      <td>No</td>\n",
       "      <td>No</td>\n",
       "      <td>No</td>\n",
       "      <td>No</td>\n",
       "      <td>No</td>\n",
       "      <td>0.906</td>\n",
       "      <td>0.511</td>\n",
       "      <td>52.341465</td>\n",
       "    </tr>\n",
       "    <tr>\n",
       "      <th>3</th>\n",
       "      <td>Almond Joy</td>\n",
       "      <td>Yes</td>\n",
       "      <td>No</td>\n",
       "      <td>No</td>\n",
       "      <td>Yes</td>\n",
       "      <td>No</td>\n",
       "      <td>No</td>\n",
       "      <td>No</td>\n",
       "      <td>Yes</td>\n",
       "      <td>No</td>\n",
       "      <td>0.465</td>\n",
       "      <td>0.767</td>\n",
       "      <td>50.347546</td>\n",
       "    </tr>\n",
       "    <tr>\n",
       "      <th>4</th>\n",
       "      <td>Baby Ruth</td>\n",
       "      <td>Yes</td>\n",
       "      <td>No</td>\n",
       "      <td>Yes</td>\n",
       "      <td>Yes</td>\n",
       "      <td>Yes</td>\n",
       "      <td>No</td>\n",
       "      <td>No</td>\n",
       "      <td>Yes</td>\n",
       "      <td>No</td>\n",
       "      <td>0.604</td>\n",
       "      <td>0.767</td>\n",
       "      <td>56.914547</td>\n",
       "    </tr>\n",
       "  </tbody>\n",
       "</table>\n",
       "</div>"
      ],
      "text/plain": [
       "   competitorname chocolate fruity caramel peanutyalmondy nougat  \\\n",
       "id                                                                 \n",
       "0       100 Grand       Yes     No     Yes             No     No   \n",
       "1    3 Musketeers       Yes     No      No             No    Yes   \n",
       "2       Air Heads        No    Yes      No             No     No   \n",
       "3      Almond Joy       Yes     No      No            Yes     No   \n",
       "4       Baby Ruth       Yes     No     Yes            Yes    Yes   \n",
       "\n",
       "   crispedricewafer hard  bar pluribus  sugarpercent  pricepercent  winpercent  \n",
       "id                                                                              \n",
       "0               Yes   No  Yes       No         0.732         0.860   66.971725  \n",
       "1                No   No  Yes       No         0.604         0.511   67.602936  \n",
       "2                No   No   No       No         0.906         0.511   52.341465  \n",
       "3                No   No  Yes       No         0.465         0.767   50.347546  \n",
       "4                No   No  Yes       No         0.604         0.767   56.914547  "
      ]
     },
     "execution_count": 5,
     "metadata": {},
     "output_type": "execute_result"
    }
   ],
   "source": [
    "# Print the first five rows of the data\n",
    "candy_data.head() # Your code here"
   ]
  },
  {
   "cell_type": "markdown",
   "id": "557b6ca2",
   "metadata": {
    "papermill": {
     "duration": 0.009431,
     "end_time": "2023-04-01T15:36:15.192168",
     "exception": false,
     "start_time": "2023-04-01T15:36:15.182737",
     "status": "completed"
    },
    "tags": []
   },
   "source": [
    "The dataset contains 83 rows, where each corresponds to a different candy bar.  There are 13 columns:\n",
    "- `'competitorname'` contains the name of the candy bar. \n",
    "- the next **9** columns (from `'chocolate'` to `'pluribus'`) describe the candy.  For instance, rows with chocolate candies have `\"Yes\"` in the `'chocolate'` column (and candies without chocolate have `\"No\"` in the same column).\n",
    "- `'sugarpercent'` provides some indication of the amount of sugar, where higher values signify higher sugar content.\n",
    "- `'pricepercent'` shows the price per unit, relative to the other candies in the dataset.\n",
    "- `'winpercent'` is calculated from the survey results; higher values indicate that the candy was more popular with survey respondents.\n",
    "\n",
    "Use the first five rows of the data to answer the questions below."
   ]
  },
  {
   "cell_type": "code",
   "execution_count": 6,
   "id": "91148ce4",
   "metadata": {
    "execution": {
     "iopub.execute_input": "2023-04-01T15:36:15.213955Z",
     "iopub.status.busy": "2023-04-01T15:36:15.213110Z",
     "iopub.status.idle": "2023-04-01T15:36:15.223515Z",
     "shell.execute_reply": "2023-04-01T15:36:15.222278Z"
    },
    "papermill": {
     "duration": 0.024155,
     "end_time": "2023-04-01T15:36:15.226049",
     "exception": false,
     "start_time": "2023-04-01T15:36:15.201894",
     "status": "completed"
    },
    "tags": []
   },
   "outputs": [
    {
     "data": {
      "application/javascript": [
       "parent.postMessage({\"jupyterEvent\": \"custom.exercise_interaction\", \"data\": {\"outcomeType\": 1, \"valueTowardsCompletion\": 0.3333333333333333, \"interactionType\": 1, \"questionType\": 1, \"questionId\": \"2_ReviewData\", \"learnToolsVersion\": \"0.3.4\", \"failureMessage\": \"\", \"exceptionClass\": \"\", \"trace\": \"\"}}, \"*\")"
      ],
      "text/plain": [
       "<IPython.core.display.Javascript object>"
      ]
     },
     "metadata": {},
     "output_type": "display_data"
    },
    {
     "data": {
      "text/markdown": [
       "<span style=\"color:#33cc33\">Correct</span>"
      ],
      "text/plain": [
       "Correct"
      ]
     },
     "metadata": {},
     "output_type": "display_data"
    }
   ],
   "source": [
    "# Fill in the line below: Which candy was more popular with survey respondents:\n",
    "# '3 Musketeers' or 'Almond Joy'?  (Please enclose your answer in single quotes.)\n",
    "more_popular = '3 Musketeers'\n",
    "\n",
    "# Fill in the line below: Which candy has higher sugar content: 'Air Heads'\n",
    "# or 'Baby Ruth'? (Please enclose your answer in single quotes.)\n",
    "more_sugar = 'Air Heads'\n",
    "\n",
    "# Check your answers\n",
    "step_2.check()"
   ]
  },
  {
   "cell_type": "code",
   "execution_count": 7,
   "id": "61fd0193",
   "metadata": {
    "execution": {
     "iopub.execute_input": "2023-04-01T15:36:15.247752Z",
     "iopub.status.busy": "2023-04-01T15:36:15.247346Z",
     "iopub.status.idle": "2023-04-01T15:36:15.252248Z",
     "shell.execute_reply": "2023-04-01T15:36:15.251276Z"
    },
    "papermill": {
     "duration": 0.018528,
     "end_time": "2023-04-01T15:36:15.254516",
     "exception": false,
     "start_time": "2023-04-01T15:36:15.235988",
     "status": "completed"
    },
    "tags": []
   },
   "outputs": [],
   "source": [
    "# Lines below will give you a hint or solution code\n",
    "#step_2.hint()\n",
    "#step_2.solution()"
   ]
  },
  {
   "cell_type": "markdown",
   "id": "7e8949e2",
   "metadata": {
    "papermill": {
     "duration": 0.009716,
     "end_time": "2023-04-01T15:36:15.274260",
     "exception": false,
     "start_time": "2023-04-01T15:36:15.264544",
     "status": "completed"
    },
    "tags": []
   },
   "source": [
    "## Step 3: The role of sugar\n",
    "\n",
    "Do people tend to prefer candies with higher sugar content?  \n",
    "\n",
    "#### Part A\n",
    "\n",
    "Create a scatter plot that shows the relationship between `'sugarpercent'` (on the horizontal x-axis) and `'winpercent'` (on the vertical y-axis).  _Don't add a regression line just yet -- you'll do that in the next step!_"
   ]
  },
  {
   "cell_type": "code",
   "execution_count": 8,
   "id": "554400dc",
   "metadata": {
    "execution": {
     "iopub.execute_input": "2023-04-01T15:36:15.295657Z",
     "iopub.status.busy": "2023-04-01T15:36:15.295252Z",
     "iopub.status.idle": "2023-04-01T15:36:15.579275Z",
     "shell.execute_reply": "2023-04-01T15:36:15.578217Z"
    },
    "papermill": {
     "duration": 0.297488,
     "end_time": "2023-04-01T15:36:15.581693",
     "exception": false,
     "start_time": "2023-04-01T15:36:15.284205",
     "status": "completed"
    },
    "tags": []
   },
   "outputs": [
    {
     "data": {
      "application/javascript": [
       "parent.postMessage({\"jupyterEvent\": \"custom.exercise_interaction\", \"data\": {\"outcomeType\": 1, \"valueTowardsCompletion\": 0.3333333333333333, \"interactionType\": 1, \"questionType\": 2, \"questionId\": \"3.1_PlotBlueScatter\", \"learnToolsVersion\": \"0.3.4\", \"failureMessage\": \"\", \"exceptionClass\": \"\", \"trace\": \"\"}}, \"*\")"
      ],
      "text/plain": [
       "<IPython.core.display.Javascript object>"
      ]
     },
     "metadata": {},
     "output_type": "display_data"
    },
    {
     "data": {
      "text/markdown": [
       "<span style=\"color:#33cc33\">Correct</span>"
      ],
      "text/plain": [
       "Correct"
      ]
     },
     "metadata": {},
     "output_type": "display_data"
    },
    {
     "data": {
      "image/png": "[encoded data removed]",
      "text/plain": [
       "<Figure size 640x480 with 1 Axes>"
      ]
     },
     "metadata": {},
     "output_type": "display_data"
    }
   ],
   "source": [
    "# Scatter plot showing the relationship between 'sugarpercent' and 'winpercent'\n",
    " # Your code here\n",
    "sns.scatterplot(x=candy_data['sugarpercent'], y=candy_data['winpercent'])\n",
    "\n",
    "# Check your answer\n",
    "step_3.a.check()"
   ]
  },
  {
   "cell_type": "code",
   "execution_count": 9,
   "id": "b369df18",
   "metadata": {
    "execution": {
     "iopub.execute_input": "2023-04-01T15:36:15.605962Z",
     "iopub.status.busy": "2023-04-01T15:36:15.604520Z",
     "iopub.status.idle": "2023-04-01T15:36:15.610317Z",
     "shell.execute_reply": "2023-04-01T15:36:15.608974Z"
    },
    "papermill": {
     "duration": 0.020685,
     "end_time": "2023-04-01T15:36:15.613060",
     "exception": false,
     "start_time": "2023-04-01T15:36:15.592375",
     "status": "completed"
    },
    "tags": []
   },
   "outputs": [],
   "source": [
    "# Lines below will give you a hint or solution code\n",
    "#step_3.a.hint()\n",
    "#step_3.a.solution_plot()"
   ]
  },
  {
   "cell_type": "markdown",
   "id": "6f0f943c",
   "metadata": {
    "papermill": {
     "duration": 0.01019,
     "end_time": "2023-04-01T15:36:15.633876",
     "exception": false,
     "start_time": "2023-04-01T15:36:15.623686",
     "status": "completed"
    },
    "tags": []
   },
   "source": [
    "#### Part B\n",
    "\n",
    "Does the scatter plot show a **strong** correlation between the two variables?  If so, are candies with more sugar relatively more or less popular with the survey respondents?"
   ]
  },
  {
   "cell_type": "code",
   "execution_count": 10,
   "id": "a6556b11",
   "metadata": {
    "execution": {
     "iopub.execute_input": "2023-04-01T15:36:15.657496Z",
     "iopub.status.busy": "2023-04-01T15:36:15.656647Z",
     "iopub.status.idle": "2023-04-01T15:36:15.663985Z",
     "shell.execute_reply": "2023-04-01T15:36:15.662809Z"
    },
    "papermill": {
     "duration": 0.021845,
     "end_time": "2023-04-01T15:36:15.666312",
     "exception": false,
     "start_time": "2023-04-01T15:36:15.644467",
     "status": "completed"
    },
    "tags": []
   },
   "outputs": [
    {
     "data": {
      "text/plain": [
       "'The scatter plot does not show a strong correlation between \\nthe two variables. Since there is no clear relationship between the two variables, \\nthis tells us that sugar content does not play a strong role in candy popularity.'"
      ]
     },
     "execution_count": 10,
     "metadata": {},
     "output_type": "execute_result"
    }
   ],
   "source": [
    "#step_3.b.hint()\n",
    "'''The scatter plot does not show a strong correlation between \n",
    "the two variables. Since there is no clear relationship between the two variables, \n",
    "this tells us that sugar content does not play a strong role in candy popularity.'''"
   ]
  },
  {
   "cell_type": "code",
   "execution_count": 11,
   "id": "5f61faf2",
   "metadata": {
    "execution": {
     "iopub.execute_input": "2023-04-01T15:36:15.689781Z",
     "iopub.status.busy": "2023-04-01T15:36:15.689089Z",
     "iopub.status.idle": "2023-04-01T15:36:15.694089Z",
     "shell.execute_reply": "2023-04-01T15:36:15.692967Z"
    },
    "papermill": {
     "duration": 0.019519,
     "end_time": "2023-04-01T15:36:15.696516",
     "exception": false,
     "start_time": "2023-04-01T15:36:15.676997",
     "status": "completed"
    },
    "tags": []
   },
   "outputs": [],
   "source": [
    "# Check your answer (Run this code cell to receive credit!)\n",
    "#step_3.b.solution()"
   ]
  },
  {
   "cell_type": "markdown",
   "id": "8efb6185",
   "metadata": {
    "papermill": {
     "duration": 0.010243,
     "end_time": "2023-04-01T15:36:15.717595",
     "exception": false,
     "start_time": "2023-04-01T15:36:15.707352",
     "status": "completed"
    },
    "tags": []
   },
   "source": [
    "## Step 4: Take a closer look\n",
    "\n",
    "#### Part A\n",
    "\n",
    "Create the same scatter plot you created in **Step 3**, but now with a regression line!"
   ]
  },
  {
   "cell_type": "code",
   "execution_count": 12,
   "id": "ed621b57",
   "metadata": {
    "execution": {
     "iopub.execute_input": "2023-04-01T15:36:15.741346Z",
     "iopub.status.busy": "2023-04-01T15:36:15.740215Z",
     "iopub.status.idle": "2023-04-01T15:36:16.065902Z",
     "shell.execute_reply": "2023-04-01T15:36:16.064678Z"
    },
    "papermill": {
     "duration": 0.340653,
     "end_time": "2023-04-01T15:36:16.068973",
     "exception": false,
     "start_time": "2023-04-01T15:36:15.728320",
     "status": "completed"
    },
    "tags": []
   },
   "outputs": [
    {
     "data": {
      "application/javascript": [
       "parent.postMessage({\"jupyterEvent\": \"custom.exercise_interaction\", \"data\": {\"outcomeType\": 1, \"valueTowardsCompletion\": 0.3333333333333333, \"interactionType\": 1, \"questionType\": 2, \"questionId\": \"4.1_PlotBlueReg\", \"learnToolsVersion\": \"0.3.4\", \"failureMessage\": \"\", \"exceptionClass\": \"\", \"trace\": \"\"}}, \"*\")"
      ],
      "text/plain": [
       "<IPython.core.display.Javascript object>"
      ]
     },
     "metadata": {},
     "output_type": "display_data"
    },
    {
     "data": {
      "text/markdown": [
       "<span style=\"color:#33cc33\">Correct</span>"
      ],
      "text/plain": [
       "Correct"
      ]
     },
     "metadata": {},
     "output_type": "display_data"
    },
    {
     "data": {
      "image/png": "[encoded data removed]",
      "text/plain": [
       "<Figure size 640x480 with 1 Axes>"
      ]
     },
     "metadata": {},
     "output_type": "display_data"
    }
   ],
   "source": [
    "# Scatter plot w/ regression line showing the relationship between 'sugarpercent' and 'winpercent'\n",
    "# Your code here\n",
    "sns.regplot(x=candy_data['sugarpercent'], y=candy_data['winpercent'])\n",
    "\n",
    "# Check your answer\n",
    "step_4.a.check()"
   ]
  },
  {
   "cell_type": "code",
   "execution_count": 13,
   "id": "8326863e",
   "metadata": {
    "execution": {
     "iopub.execute_input": "2023-04-01T15:36:16.095214Z",
     "iopub.status.busy": "2023-04-01T15:36:16.093800Z",
     "iopub.status.idle": "2023-04-01T15:36:16.099395Z",
     "shell.execute_reply": "2023-04-01T15:36:16.098331Z"
    },
    "papermill": {
     "duration": 0.021109,
     "end_time": "2023-04-01T15:36:16.101896",
     "exception": false,
     "start_time": "2023-04-01T15:36:16.080787",
     "status": "completed"
    },
    "tags": []
   },
   "outputs": [],
   "source": [
    "# Lines below will give you a hint or solution code\n",
    "#step_4.a.hint()\n",
    "#step_4.a.solution_plot()"
   ]
  },
  {
   "cell_type": "markdown",
   "id": "ea562dbe",
   "metadata": {
    "papermill": {
     "duration": 0.011612,
     "end_time": "2023-04-01T15:36:16.125327",
     "exception": false,
     "start_time": "2023-04-01T15:36:16.113715",
     "status": "completed"
    },
    "tags": []
   },
   "source": [
    "#### Part B\n",
    "\n",
    "According to the plot above, is there a **slight** correlation between `'winpercent'` and `'sugarpercent'`?  What does this tell you about the candy that people tend to prefer?"
   ]
  },
  {
   "cell_type": "code",
   "execution_count": 14,
   "id": "cd6578f4",
   "metadata": {
    "execution": {
     "iopub.execute_input": "2023-04-01T15:36:16.150918Z",
     "iopub.status.busy": "2023-04-01T15:36:16.149734Z",
     "iopub.status.idle": "2023-04-01T15:36:16.157683Z",
     "shell.execute_reply": "2023-04-01T15:36:16.156633Z"
    },
    "papermill": {
     "duration": 0.023283,
     "end_time": "2023-04-01T15:36:16.160233",
     "exception": false,
     "start_time": "2023-04-01T15:36:16.136950",
     "status": "completed"
    },
    "tags": []
   },
   "outputs": [
    {
     "data": {
      "text/plain": [
       "\"Since the regression line has a slightly positive slope,\\nthis tells us that there is a \\nslightly positive correlation between 'winpercent' \\nand 'sugarpercent'.Thus, people have \\na slight preference for \\ncandies containing relatively more sugar\""
      ]
     },
     "execution_count": 14,
     "metadata": {},
     "output_type": "execute_result"
    }
   ],
   "source": [
    "#step_4.b.hint()\n",
    "'''Since the regression line has a slightly positive slope,\n",
    "this tells us that there is a \n",
    "slightly positive correlation between 'winpercent' \n",
    "and 'sugarpercent'.Thus, people have \n",
    "a slight preference for \n",
    "candies containing relatively more sugar'''"
   ]
  },
  {
   "cell_type": "code",
   "execution_count": 15,
   "id": "dde5377a",
   "metadata": {
    "execution": {
     "iopub.execute_input": "2023-04-01T15:36:16.185390Z",
     "iopub.status.busy": "2023-04-01T15:36:16.185008Z",
     "iopub.status.idle": "2023-04-01T15:36:16.188921Z",
     "shell.execute_reply": "2023-04-01T15:36:16.188000Z"
    },
    "papermill": {
     "duration": 0.01917,
     "end_time": "2023-04-01T15:36:16.191169",
     "exception": false,
     "start_time": "2023-04-01T15:36:16.171999",
     "status": "completed"
    },
    "tags": []
   },
   "outputs": [],
   "source": [
    "# Check your answer (Run this code cell to receive credit!)\n",
    "#step_4.b.solution()"
   ]
  },
  {
   "cell_type": "markdown",
   "id": "5ef91c96",
   "metadata": {
    "papermill": {
     "duration": 0.011518,
     "end_time": "2023-04-01T15:36:16.214199",
     "exception": false,
     "start_time": "2023-04-01T15:36:16.202681",
     "status": "completed"
    },
    "tags": []
   },
   "source": [
    "## Step 5: Chocolate!\n",
    "\n",
    "In the code cell below, create a scatter plot to show the relationship between `'pricepercent'` (on the horizontal x-axis) and `'winpercent'` (on the vertical y-axis). Use the `'chocolate'` column to color-code the points.  _Don't add any regression lines just yet -- you'll do that in the next step!_"
   ]
  },
  {
   "cell_type": "code",
   "execution_count": 16,
   "id": "63235291",
   "metadata": {
    "execution": {
     "iopub.execute_input": "2023-04-01T15:36:16.239982Z",
     "iopub.status.busy": "2023-04-01T15:36:16.238762Z",
     "iopub.status.idle": "2023-04-01T15:36:16.548150Z",
     "shell.execute_reply": "2023-04-01T15:36:16.546642Z"
    },
    "papermill": {
     "duration": 0.325115,
     "end_time": "2023-04-01T15:36:16.550965",
     "exception": false,
     "start_time": "2023-04-01T15:36:16.225850",
     "status": "completed"
    },
    "tags": []
   },
   "outputs": [
    {
     "data": {
      "application/javascript": [
       "parent.postMessage({\"jupyterEvent\": \"custom.exercise_interaction\", \"data\": {\"outcomeType\": 1, \"valueTowardsCompletion\": 0.3333333333333333, \"interactionType\": 1, \"questionType\": 2, \"questionId\": \"5_ColorScatter\", \"learnToolsVersion\": \"0.3.4\", \"failureMessage\": \"\", \"exceptionClass\": \"\", \"trace\": \"\"}}, \"*\")"
      ],
      "text/plain": [
       "<IPython.core.display.Javascript object>"
      ]
     },
     "metadata": {},
     "output_type": "display_data"
    },
    {
     "data": {
      "text/markdown": [
       "<span style=\"color:#33cc33\">Correct</span>"
      ],
      "text/plain": [
       "Correct"
      ]
     },
     "metadata": {},
     "output_type": "display_data"
    },
    {
     "data": {
      "image/png": "[encoded data removed]",
      "text/plain": [
       "<Figure size 640x480 with 1 Axes>"
      ]
     },
     "metadata": {},
     "output_type": "display_data"
    }
   ],
   "source": [
    "# Scatter plot showing the relationship between 'pricepercent', 'winpercent', and 'chocolate'\n",
    "# Your code here\n",
    "sns.scatterplot(x=candy_data['pricepercent'], y=candy_data['winpercent'], hue=candy_data['chocolate'])              \n",
    "\n",
    "# Check your answer\n",
    "step_5.check()"
   ]
  },
  {
   "cell_type": "code",
   "execution_count": 17,
   "id": "9fca1b5e",
   "metadata": {
    "execution": {
     "iopub.execute_input": "2023-04-01T15:36:16.577949Z",
     "iopub.status.busy": "2023-04-01T15:36:16.577530Z",
     "iopub.status.idle": "2023-04-01T15:36:16.584072Z",
     "shell.execute_reply": "2023-04-01T15:36:16.582720Z"
    },
    "papermill": {
     "duration": 0.023,
     "end_time": "2023-04-01T15:36:16.586458",
     "exception": false,
     "start_time": "2023-04-01T15:36:16.563458",
     "status": "completed"
    },
    "tags": []
   },
   "outputs": [],
   "source": [
    "# Lines below will give you a hint or solution code\n",
    "#step_5.hint()\n",
    "#step_5.solution_plot()"
   ]
  },
  {
   "cell_type": "markdown",
   "id": "078e4882",
   "metadata": {
    "papermill": {
     "duration": 0.012123,
     "end_time": "2023-04-01T15:36:16.611009",
     "exception": false,
     "start_time": "2023-04-01T15:36:16.598886",
     "status": "completed"
    },
    "tags": []
   },
   "source": [
    "Can you see any interesting patterns in the scatter plot?  We'll investigate this plot further  by adding regression lines in the next step!\n",
    "\n",
    "## Step 6: Investigate chocolate\n",
    "\n",
    "#### Part A\n",
    "\n",
    "Create the same scatter plot you created in **Step 5**, but now with two regression lines, corresponding to (1) chocolate candies and (2) candies without chocolate."
   ]
  },
  {
   "cell_type": "code",
   "execution_count": 18,
   "id": "b1bcc27a",
   "metadata": {
    "execution": {
     "iopub.execute_input": "2023-04-01T15:36:16.637593Z",
     "iopub.status.busy": "2023-04-01T15:36:16.637191Z",
     "iopub.status.idle": "2023-04-01T15:36:17.241035Z",
     "shell.execute_reply": "2023-04-01T15:36:17.239598Z"
    },
    "papermill": {
     "duration": 0.62024,
     "end_time": "2023-04-01T15:36:17.243740",
     "exception": false,
     "start_time": "2023-04-01T15:36:16.623500",
     "status": "completed"
    },
    "tags": []
   },
   "outputs": [
    {
     "data": {
      "application/javascript": [
       "parent.postMessage({\"jupyterEvent\": \"custom.exercise_interaction\", \"data\": {\"outcomeType\": 1, \"valueTowardsCompletion\": 0.3333333333333333, \"interactionType\": 1, \"questionType\": 2, \"questionId\": \"6.1_PlotColorReg\", \"learnToolsVersion\": \"0.3.4\", \"failureMessage\": \"\", \"exceptionClass\": \"\", \"trace\": \"\"}}, \"*\")"
      ],
      "text/plain": [
       "<IPython.core.display.Javascript object>"
      ]
     },
     "metadata": {},
     "output_type": "display_data"
    },
    {
     "data": {
      "text/markdown": [
       "<span style=\"color:#33cc33\">Correct</span>"
      ],
      "text/plain": [
       "Correct"
      ]
     },
     "metadata": {},
     "output_type": "display_data"
    },
    {
     "data": {
      "image/png": "[encoded data removed]",
      "text/plain": [
       "<Figure size 578.611x500 with 1 Axes>"
      ]
     },
     "metadata": {},
     "output_type": "display_data"
    }
   ],
   "source": [
    "# Color-coded scatter plot w/ regression lines\n",
    "# Your code here\n",
    "sns.lmplot(x=\"pricepercent\", y=\"winpercent\", hue=\"chocolate\", data=candy_data)\n",
    "\n",
    "# Check your answer\n",
    "step_6.a.check()"
   ]
  },
  {
   "cell_type": "code",
   "execution_count": 19,
   "id": "8a8735d2",
   "metadata": {
    "execution": {
     "iopub.execute_input": "2023-04-01T15:36:17.273702Z",
     "iopub.status.busy": "2023-04-01T15:36:17.272817Z",
     "iopub.status.idle": "2023-04-01T15:36:17.278361Z",
     "shell.execute_reply": "2023-04-01T15:36:17.277168Z"
    },
    "papermill": {
     "duration": 0.023454,
     "end_time": "2023-04-01T15:36:17.280890",
     "exception": false,
     "start_time": "2023-04-01T15:36:17.257436",
     "status": "completed"
    },
    "tags": []
   },
   "outputs": [],
   "source": [
    "# Lines below will give you a hint or solution code\n",
    "#step_6.a.hint()\n",
    "#step_6.a.solution_plot()"
   ]
  },
  {
   "cell_type": "markdown",
   "id": "e37cf37b",
   "metadata": {
    "papermill": {
     "duration": 0.013176,
     "end_time": "2023-04-01T15:36:17.307653",
     "exception": false,
     "start_time": "2023-04-01T15:36:17.294477",
     "status": "completed"
    },
    "tags": []
   },
   "source": [
    "#### Part B\n",
    "\n",
    "Using the regression lines, what conclusions can you draw about the effects of chocolate and price on candy popularity?"
   ]
  },
  {
   "cell_type": "code",
   "execution_count": 20,
   "id": "72825a1c",
   "metadata": {
    "execution": {
     "iopub.execute_input": "2023-04-01T15:36:17.336692Z",
     "iopub.status.busy": "2023-04-01T15:36:17.335877Z",
     "iopub.status.idle": "2023-04-01T15:36:17.342557Z",
     "shell.execute_reply": "2023-04-01T15:36:17.341636Z"
    },
    "papermill": {
     "duration": 0.023707,
     "end_time": "2023-04-01T15:36:17.344844",
     "exception": false,
     "start_time": "2023-04-01T15:36:17.321137",
     "status": "completed"
    },
    "tags": []
   },
   "outputs": [
    {
     "data": {
      "text/plain": [
       "\"We'll begin with the regression line for chocolate candies.\\nSince this line has a slightly positive slope, we can say that more \\nexpensive chocolate candies tend to be more popular\\n(than relatively cheaper chocolate candies).\\nLikewise, since the regression line for candies without \\nchocolate has a negative slope, we can say that if\\ncandies don't contain chocolate, they tend to be\\nmore popular when they are cheaper. One important note,\\nhowever, is that the dataset is quite small --\\nso we shouldn't invest too much trust in\\nthese patterns! To inspire more confidence in the results,\\nwe should add more candies to the dataset.\""
      ]
     },
     "execution_count": 20,
     "metadata": {},
     "output_type": "execute_result"
    }
   ],
   "source": [
    "#step_6.b.hint()\n",
    "'''We'll begin with the regression line for chocolate candies.\n",
    "Since this line has a slightly positive slope, we can say that more \n",
    "expensive chocolate candies tend to be more popular\n",
    "(than relatively cheaper chocolate candies).\n",
    "Likewise, since the regression line for candies without \n",
    "chocolate has a negative slope, we can say that if\n",
    "candies don't contain chocolate, they tend to be\n",
    "more popular when they are cheaper. One important note,\n",
    "however, is that the dataset is quite small --\n",
    "so we shouldn't invest too much trust in\n",
    "these patterns! To inspire more confidence in the results,\n",
    "we should add more candies to the dataset.'''\n",
    "\n"
   ]
  },
  {
   "cell_type": "code",
   "execution_count": 21,
   "id": "7c7a9ffb",
   "metadata": {
    "execution": {
     "iopub.execute_input": "2023-04-01T15:36:17.373920Z",
     "iopub.status.busy": "2023-04-01T15:36:17.373176Z",
     "iopub.status.idle": "2023-04-01T15:36:17.377417Z",
     "shell.execute_reply": "2023-04-01T15:36:17.376433Z"
    },
    "papermill": {
     "duration": 0.021505,
     "end_time": "2023-04-01T15:36:17.379769",
     "exception": false,
     "start_time": "2023-04-01T15:36:17.358264",
     "status": "completed"
    },
    "tags": []
   },
   "outputs": [],
   "source": [
    "# Check your answer (Run this code cell to receive credit!)\n",
    "#step_6.b.solution()"
   ]
  },
  {
   "cell_type": "markdown",
   "id": "59f88bcf",
   "metadata": {
    "papermill": {
     "duration": 0.013438,
     "end_time": "2023-04-01T15:36:17.407565",
     "exception": false,
     "start_time": "2023-04-01T15:36:17.394127",
     "status": "completed"
    },
    "tags": []
   },
   "source": [
    "## Step 7: Everybody loves chocolate.\n",
    "\n",
    "#### Part A\n",
    "\n",
    "Create a categorical scatter plot to highlight the relationship between `'chocolate'` and `'winpercent'`.  Put `'chocolate'` on the (horizontal) x-axis, and `'winpercent'` on the (vertical) y-axis."
   ]
  },
  {
   "cell_type": "code",
   "execution_count": 22,
   "id": "ca74ee43",
   "metadata": {
    "execution": {
     "iopub.execute_input": "2023-04-01T15:36:17.436741Z",
     "iopub.status.busy": "2023-04-01T15:36:17.435977Z",
     "iopub.status.idle": "2023-04-01T15:36:17.777095Z",
     "shell.execute_reply": "2023-04-01T15:36:17.775703Z"
    },
    "papermill": {
     "duration": 0.359579,
     "end_time": "2023-04-01T15:36:17.780710",
     "exception": false,
     "start_time": "2023-04-01T15:36:17.421131",
     "status": "completed"
    },
    "tags": []
   },
   "outputs": [
    {
     "data": {
      "application/javascript": [
       "parent.postMessage({\"jupyterEvent\": \"custom.exercise_interaction\", \"data\": {\"outcomeType\": 1, \"valueTowardsCompletion\": 0.3333333333333333, \"interactionType\": 1, \"questionType\": 2, \"questionId\": \"7.1_PlotSwarm\", \"learnToolsVersion\": \"0.3.4\", \"failureMessage\": \"\", \"exceptionClass\": \"\", \"trace\": \"\"}}, \"*\")"
      ],
      "text/plain": [
       "<IPython.core.display.Javascript object>"
      ]
     },
     "metadata": {},
     "output_type": "display_data"
    },
    {
     "data": {
      "text/markdown": [
       "<span style=\"color:#33cc33\">Correct</span>"
      ],
      "text/plain": [
       "Correct"
      ]
     },
     "metadata": {},
     "output_type": "display_data"
    },
    {
     "data": {
      "image/png": "[encoded data removed]",
      "text/plain": [
       "<Figure size 640x480 with 1 Axes>"
      ]
     },
     "metadata": {},
     "output_type": "display_data"
    }
   ],
   "source": [
    "# Scatter plot showing the relationship between 'chocolate' and 'winpercent'\n",
    "____ # Your code here\n",
    "sns.swarmplot(x=candy_data['chocolate'],\n",
    "              y=candy_data['winpercent'])\n",
    "# Check your answer\n",
    "step_7.a.check()"
   ]
  },
  {
   "cell_type": "code",
   "execution_count": 23,
   "id": "a782fc68",
   "metadata": {
    "execution": {
     "iopub.execute_input": "2023-04-01T15:36:17.831267Z",
     "iopub.status.busy": "2023-04-01T15:36:17.829999Z",
     "iopub.status.idle": "2023-04-01T15:36:17.836089Z",
     "shell.execute_reply": "2023-04-01T15:36:17.835128Z"
    },
    "papermill": {
     "duration": 0.034223,
     "end_time": "2023-04-01T15:36:17.838581",
     "exception": false,
     "start_time": "2023-04-01T15:36:17.804358",
     "status": "completed"
    },
    "tags": []
   },
   "outputs": [],
   "source": [
    "# Lines below will give you a hint or solution code\n",
    "#step_7.a.hint()\n",
    "#step_7.a.solution_plot()"
   ]
  },
  {
   "cell_type": "markdown",
   "id": "c2ffafa4",
   "metadata": {
    "papermill": {
     "duration": 0.013834,
     "end_time": "2023-04-01T15:36:17.866630",
     "exception": false,
     "start_time": "2023-04-01T15:36:17.852796",
     "status": "completed"
    },
    "tags": []
   },
   "source": [
    "#### Part B\n",
    "\n",
    "You decide to dedicate a section of your report to the fact that chocolate candies tend to be more popular than candies without chocolate.  Which plot is more appropriate to tell this story: the plot from **Step 6**, or the plot from **Step 7**?"
   ]
  },
  {
   "cell_type": "code",
   "execution_count": 24,
   "id": "aa747794",
   "metadata": {
    "execution": {
     "iopub.execute_input": "2023-04-01T15:36:17.897291Z",
     "iopub.status.busy": "2023-04-01T15:36:17.896502Z",
     "iopub.status.idle": "2023-04-01T15:36:17.902739Z",
     "shell.execute_reply": "2023-04-01T15:36:17.901888Z"
    },
    "papermill": {
     "duration": 0.024118,
     "end_time": "2023-04-01T15:36:17.905053",
     "exception": false,
     "start_time": "2023-04-01T15:36:17.880935",
     "status": "completed"
    },
    "tags": []
   },
   "outputs": [
    {
     "data": {
      "text/plain": [
       "'In this case, the categorical scatter plot from Step 7 is\\nthe more appropriate plot. While both plots tell the desired story, \\nthe plot from Step 6 conveys far more information\\nthat could distract from the main point.'"
      ]
     },
     "execution_count": 24,
     "metadata": {},
     "output_type": "execute_result"
    }
   ],
   "source": [
    "#step_7.b.hint()\n",
    "'''In this case, the categorical scatter plot from Step 7 is\n",
    "the more appropriate plot. While both plots tell the desired story, \n",
    "the plot from Step 6 conveys far more information\n",
    "that could distract from the main point.'''"
   ]
  },
  {
   "cell_type": "code",
   "execution_count": 25,
   "id": "0a0f7730",
   "metadata": {
    "execution": {
     "iopub.execute_input": "2023-04-01T15:36:17.934988Z",
     "iopub.status.busy": "2023-04-01T15:36:17.934524Z",
     "iopub.status.idle": "2023-04-01T15:36:17.943606Z",
     "shell.execute_reply": "2023-04-01T15:36:17.942464Z"
    },
    "papermill": {
     "duration": 0.026848,
     "end_time": "2023-04-01T15:36:17.945976",
     "exception": false,
     "start_time": "2023-04-01T15:36:17.919128",
     "status": "completed"
    },
    "tags": []
   },
   "outputs": [
    {
     "data": {
      "application/javascript": [
       "parent.postMessage({\"jupyterEvent\": \"custom.exercise_interaction\", \"data\": {\"interactionType\": 3, \"questionType\": 4, \"questionId\": \"7.2_ThinkSwarm\", \"learnToolsVersion\": \"0.3.4\", \"valueTowardsCompletion\": 0.0, \"failureMessage\": \"\", \"exceptionClass\": \"\", \"trace\": \"\", \"outcomeType\": 4}}, \"*\")"
      ],
      "text/plain": [
       "<IPython.core.display.Javascript object>"
      ]
     },
     "metadata": {},
     "output_type": "display_data"
    },
    {
     "data": {
      "text/markdown": [
       "<span style=\"color:#33cc99\">Solution:</span> In this case, the categorical scatter plot from **Step 7** is the more appropriate plot. While both plots tell the desired story, the plot from **Step 6** conveys far more information that could distract from the main point."
      ],
      "text/plain": [
       "Solution: In this case, the categorical scatter plot from **Step 7** is the more appropriate plot. While both plots tell the desired story, the plot from **Step 6** conveys far more information that could distract from the main point."
      ]
     },
     "metadata": {},
     "output_type": "display_data"
    }
   ],
   "source": [
    "# Check your answer (Run this code cell to receive credit!)\n",
    "step_7.b.solution()"
   ]
  },
  {
   "cell_type": "markdown",
   "id": "c35673ca",
   "metadata": {
    "papermill": {
     "duration": 0.014173,
     "end_time": "2023-04-01T15:36:17.974655",
     "exception": false,
     "start_time": "2023-04-01T15:36:17.960482",
     "status": "completed"
    },
    "tags": []
   },
   "source": [
    "## Keep going\n",
    "\n",
    "Explore **[histograms and density plots](https://www.kaggle.com/alexisbcook/distributions)**."
   ]
  },
  {
   "cell_type": "markdown",
   "id": "e76d115a",
   "metadata": {
    "papermill": {
     "duration": 0.013802,
     "end_time": "2023-04-01T15:36:18.002761",
     "exception": false,
     "start_time": "2023-04-01T15:36:17.988959",
     "status": "completed"
    },
    "tags": []
   },
   "source": [
    "---\n",
    "\n",
    "\n",
    "\n",
    "\n",
    "*Have questions or comments? Visit the [course discussion forum](https://www.kaggle.com/learn/data-visualization/discussion) to chat with other learners.*"
   ]
  }
 ],
 "metadata": {
  "kernelspec": {
   "display_name": "Python 3",
   "language": "python",
   "name": "python3"
  },
  "language_info": {
   "codemirror_mode": {
    "name": "ipython",
    "version": 3
   },
   "file_extension": ".py",
   "mimetype": "text/x-python",
   "name": "python",
   "nbconvert_exporter": "python",
   "pygments_lexer": "ipython3",
   "version": "3.7.12"
  },
  "papermill": {
   "default_parameters": {},
   "duration": 16.045514,
   "end_time": "2023-04-01T15:36:18.741546",
   "environment_variables": {},
   "exception": null,
   "input_path": "__notebook__.ipynb",
   "output_path": "__notebook__.ipynb",
   "parameters": {},
   "start_time": "2023-04-01T15:36:02.696032",
   "version": "2.4.0"
  }
 },
 "nbformat": 4,
 "nbformat_minor": 5
}
